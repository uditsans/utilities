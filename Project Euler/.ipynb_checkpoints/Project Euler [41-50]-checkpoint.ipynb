{
 "cells": [
  {
   "cell_type": "markdown",
   "metadata": {},
   "source": [
    "## Q41. Largest n-digit Pandigital prime"
   ]
  },
  {
   "cell_type": "code",
   "execution_count": 1,
   "metadata": {},
   "outputs": [
    {
     "name": "stdout",
     "output_type": "stream",
     "text": [
      "1 -\n",
      "2 -\n",
      "3 -\n",
      "4 4231\n",
      "5 -\n",
      "6 -\n",
      "7 7652413\n",
      "8 -\n",
      "9 -\n"
     ]
    }
   ],
   "source": [
    "#Pandigital Number Generator\n",
    "def pan_digit(dig_left, num = 0):\n",
    "    \n",
    "    if len(dig_left) == 0:\n",
    "        return [num]\n",
    "    \n",
    "    pand_num = []\n",
    "    for i in dig_left:\n",
    "        sub_dig = [j for j in dig_left]\n",
    "        sub_dig.remove(i)\n",
    "        pand_num = pand_num + pan_digit(sub_dig,num*10+i)\n",
    "        del sub_dig;\n",
    "    \n",
    "    return pand_num\n",
    "\n",
    "#Prime Checker\n",
    "prims = [2,3,5,7]\n",
    "def prim(num):\n",
    "    if num < 2:\n",
    "        return False\n",
    "    \n",
    "    if num in prims:\n",
    "        return True\n",
    "    \n",
    "    for i in range(2,int(num**0.5)+1):\n",
    "        if num%i == 0:\n",
    "            return False\n",
    "\n",
    "    prims.append(num)\n",
    "    return True\n",
    "\n",
    "#Test Function\n",
    "def test(num):\n",
    "    for j in range(len(num),0,-1):\n",
    "        if prim(num[j-1]):\n",
    "            return num[j-1]\n",
    "    return \"-\"\n",
    "\n",
    "n = 9\n",
    "for i in range(1,n+1):\n",
    "    print(i,test(pan_digit([j for j in range(1,i+1)])))"
   ]
  },
  {
   "cell_type": "markdown",
   "metadata": {},
   "source": [
    "## Q42. Number of triangle number in a File"
   ]
  },
  {
   "cell_type": "code",
   "execution_count": 2,
   "metadata": {},
   "outputs": [
    {
     "name": "stdout",
     "output_type": "stream",
     "text": [
      "162\n"
     ]
    }
   ],
   "source": [
    "alph_val = {'A':1, 'B':2, 'C':3, 'D':4, 'E':5, 'F':6, 'G':7, 'H':8, 'I':9, 'J':10, 'K':11, 'L':12, 'M':13, 'N':14 \\\n",
    "            , 'O':15, 'P':16, 'Q':17, 'R':18, 'S':19, 'T':20, 'U':21, 'V':22, 'W':23, 'X':24, 'Y':25, 'Z':26, '\"':0}\n",
    "data = []\n",
    "\n",
    "file = open(\"words.txt\", \"r\")\n",
    "for line in file:\n",
    "    data = line.split(\",\")\n",
    "file.close()\n",
    "\n",
    "for i in range(len(data)):\n",
    "    val = 0\n",
    "    for j in range(len(data[i])):\n",
    "        val+=alph_val[data[i][j]]\n",
    "    data[i] = val \n",
    "    \n",
    "max_T = max(data)\n",
    "t_series = [(i*(i+1))//2 for i in range(1,int((max_T*2)**0.5)+1)]\n",
    "\n",
    "count = 0\n",
    "for i in data:\n",
    "    if i in t_series:\n",
    "        count += 1\n",
    "\n",
    "del data, alph_val, t_series;\n",
    "\n",
    "print(count)"
   ]
  },
  {
   "cell_type": "markdown",
   "metadata": {},
   "source": [
    "## Q43. https://projecteuler.net/problem=43"
   ]
  },
  {
   "cell_type": "code",
   "execution_count": 19,
   "metadata": {},
   "outputs": [
    {
     "name": "stdout",
     "output_type": "stream",
     "text": [
      "[1406357289, 1430952867, 1460357289, 4106357289, 4130952867, 4160357289] 16695334890 0.07668471336364746\n"
     ]
    }
   ],
   "source": [
    "import math as m\n",
    "\n",
    "check_set = [2,3,5,7,11,13,17]\n",
    "\n",
    "#Pandigital sub-string Generator\n",
    "def pan_digit_sub_string(dig_left, num = 0):\n",
    "    \n",
    "    if len(dig_left) == 0:\n",
    "        return [num]\n",
    "    \n",
    "    pand_num = []\n",
    "    for i in dig_left:\n",
    "        if num == i:\n",
    "            continue\n",
    "        \n",
    "        a = num*10 + i\n",
    "\n",
    "        if div_check(a):\n",
    "            sub_dig = [j for j in dig_left]\n",
    "            sub_dig.remove(i)\n",
    "            pand_num = pand_num + pan_digit_sub_string(sub_dig,a)\n",
    "            del sub_dig;\n",
    "    \n",
    "    return pand_num\n",
    "\n",
    "def div_check(num):\n",
    "    if num<1000:\n",
    "        return True\n",
    "    elif (num%1000)%check_set[int(m.log(num,10))-3] == 0:\n",
    "        return True\n",
    "    else:\n",
    "        return False   \n",
    "    \n",
    "sub_str = pan_digit_sub_string([i for i in range(10)])\n",
    "        \n",
    "print(sub_str,sum(sub_str))"
   ]
  },
  {
   "cell_type": "code",
   "execution_count": 6,
   "metadata": {},
   "outputs": [
    {
     "ename": "KeyboardInterrupt",
     "evalue": "",
     "output_type": "error",
     "traceback": [
      "\u001b[0;31m---------------------------------------------------------------------------\u001b[0m",
      "\u001b[0;31mKeyboardInterrupt\u001b[0m                         Traceback (most recent call last)",
      "\u001b[0;32m<ipython-input-6-8406f6fce7d6>\u001b[0m in \u001b[0;36m<module>\u001b[0;34m\u001b[0m\n\u001b[1;32m     14\u001b[0m     \u001b[0ma\u001b[0m \u001b[0;34m=\u001b[0m \u001b[0mpen\u001b[0m\u001b[0;34m[\u001b[0m\u001b[0;34m-\u001b[0m\u001b[0;36m1\u001b[0m\u001b[0;34m]\u001b[0m \u001b[0;34m+\u001b[0m \u001b[0mpen\u001b[0m\u001b[0;34m[\u001b[0m\u001b[0;34m-\u001b[0m\u001b[0;36m2\u001b[0m\u001b[0;34m]\u001b[0m\u001b[0;34m\u001b[0m\u001b[0;34m\u001b[0m\u001b[0m\n\u001b[1;32m     15\u001b[0m     \u001b[0mb\u001b[0m \u001b[0;34m=\u001b[0m \u001b[0mpen\u001b[0m\u001b[0;34m[\u001b[0m\u001b[0;34m-\u001b[0m\u001b[0;36m1\u001b[0m\u001b[0;34m]\u001b[0m \u001b[0;34m-\u001b[0m \u001b[0mpen\u001b[0m\u001b[0;34m[\u001b[0m\u001b[0;34m-\u001b[0m\u001b[0;36m2\u001b[0m\u001b[0;34m]\u001b[0m\u001b[0;34m\u001b[0m\u001b[0;34m\u001b[0m\u001b[0m\n\u001b[0;32m---> 16\u001b[0;31m     \u001b[0;32mif\u001b[0m \u001b[0mb\u001b[0m \u001b[0;32min\u001b[0m \u001b[0mpen\u001b[0m\u001b[0;34m:\u001b[0m\u001b[0;34m\u001b[0m\u001b[0;34m\u001b[0m\u001b[0m\n\u001b[0m\u001b[1;32m     17\u001b[0m         \u001b[0;32mif\u001b[0m\u001b[0;34m(\u001b[0m\u001b[0mroot\u001b[0m\u001b[0;34m(\u001b[0m\u001b[0;36m3\u001b[0m\u001b[0;34m,\u001b[0m\u001b[0;34m-\u001b[0m\u001b[0;36m1\u001b[0m\u001b[0;34m,\u001b[0m\u001b[0;34m-\u001b[0m\u001b[0;36m2\u001b[0m\u001b[0;34m*\u001b[0m\u001b[0ma\u001b[0m\u001b[0;34m)\u001b[0m\u001b[0;34m)\u001b[0m\u001b[0;34m.\u001b[0m\u001b[0mis_integer\u001b[0m\u001b[0;34m(\u001b[0m\u001b[0;34m)\u001b[0m\u001b[0;34m:\u001b[0m\u001b[0;34m\u001b[0m\u001b[0;34m\u001b[0m\u001b[0m\n\u001b[1;32m     18\u001b[0m             \u001b[0mprint\u001b[0m\u001b[0;34m(\u001b[0m\u001b[0mpen\u001b[0m\u001b[0;34m[\u001b[0m\u001b[0;34m-\u001b[0m\u001b[0;36m1\u001b[0m\u001b[0;34m]\u001b[0m\u001b[0;34m,\u001b[0m\u001b[0mpen\u001b[0m\u001b[0;34m[\u001b[0m\u001b[0;34m-\u001b[0m\u001b[0;36m2\u001b[0m\u001b[0;34m]\u001b[0m\u001b[0;34m,\u001b[0m\u001b[0ma\u001b[0m\u001b[0;34m,\u001b[0m\u001b[0mb\u001b[0m\u001b[0;34m)\u001b[0m\u001b[0;34m\u001b[0m\u001b[0;34m\u001b[0m\u001b[0m\n",
      "\u001b[0;31mKeyboardInterrupt\u001b[0m: "
     ]
    }
   ],
   "source": [
    "def root(a,b,c):\n",
    "    modulo = b**2 - 4*a*c\n",
    "    if modulo >= 0:\n",
    "        return ((-1*b) + modulo**0.5)/(2*a)\n",
    "    \n",
    "def pent(n):\n",
    "    return (n*((3*n)-1))/2\n",
    "pen = [1, 5]     \n",
    "test = False\n",
    "n = 2\n",
    "while test == False:\n",
    "    pen.append(pent(n+1))\n",
    "    n += 1\n",
    "    a = pen[-1] + pen[-2]\n",
    "    b = pen[-1] - pen[-2]\n",
    "    if b in pen:\n",
    "        if(root(3,-1,-2*a)).is_integer():\n",
    "            print(pen[-1],pen[-2],a,b)\n",
    "            test = True"
   ]
  },
  {
   "cell_type": "code",
   "execution_count": null,
   "metadata": {},
   "outputs": [],
   "source": []
  }
 ],
 "metadata": {
  "kernelspec": {
   "display_name": "Python 3",
   "language": "python",
   "name": "python3"
  },
  "language_info": {
   "codemirror_mode": {
    "name": "ipython",
    "version": 3
   },
   "file_extension": ".py",
   "mimetype": "text/x-python",
   "name": "python",
   "nbconvert_exporter": "python",
   "pygments_lexer": "ipython3",
   "version": "3.7.4"
  }
 },
 "nbformat": 4,
 "nbformat_minor": 2
}
