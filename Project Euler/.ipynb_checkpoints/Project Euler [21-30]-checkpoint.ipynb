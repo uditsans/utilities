{
 "cells": [
  {
   "cell_type": "markdown",
   "metadata": {},
   "source": [
    "## Functions for this Set of Questions"
   ]
  },
  {
   "cell_type": "code",
   "execution_count": 1,
   "metadata": {},
   "outputs": [],
   "source": [
    "import math as m\n",
    "import time as t\n",
    "\n",
    "# Sum of proper divisors of a given number\n",
    "def div(num):\n",
    "    sum_div = 1\n",
    "    for i in range(2,int(num**0.5)+1):\n",
    "        if(num%i == 0):\n",
    "            sum_div += i\n",
    "            if i != num//i :\n",
    "                sum_div += num//i\n",
    "    return sum_div\n",
    "\n",
    "# Factorial Function\n",
    "def fac(x):\n",
    "    if(x==0):\n",
    "        return 1\n",
    "    else:\n",
    "        return x*fac(x-1)\n"
   ]
  },
  {
   "cell_type": "markdown",
   "metadata": {},
   "source": [
    "## Q21. Sum of all amicable number below 10k"
   ]
  },
  {
   "cell_type": "code",
   "execution_count": 2,
   "metadata": {},
   "outputs": [
    {
     "name": "stdout",
     "output_type": "stream",
     "text": [
      "31626\n"
     ]
    }
   ],
   "source": [
    "sum_amicable = 0\n",
    "\n",
    "for i in range(3,10000):\n",
    "    a = div(i)\n",
    "    b = div(a)\n",
    "    if(i == b and a != b):\n",
    "        sum_amicable += i\n",
    "        \n",
    "print(sum_amicable)"
   ]
  },
  {
   "cell_type": "markdown",
   "metadata": {},
   "source": [
    "## Q22. Total of all the name scores in a file"
   ]
  },
  {
   "cell_type": "code",
   "execution_count": 3,
   "metadata": {},
   "outputs": [
    {
     "name": "stdout",
     "output_type": "stream",
     "text": [
      "871198282\n"
     ]
    }
   ],
   "source": [
    "alph_val = {'A':1, 'B':2, 'C':3, 'D':4, 'E':5, 'F':6, 'G':7, 'H':8, 'I':9, 'J':10, 'K':11, 'L':12, 'M':13, 'N':14 \\\n",
    "            , 'O':15, 'P':16, 'Q':17, 'R':18, 'S':19, 'T':20, 'U':21, 'V':22, 'W':23, 'X':24, 'Y':25, 'Z':26, '\"':0}\n",
    "data = []\n",
    "\n",
    "file = open(\"names.txt\", \"r\")\n",
    "for line in file:\n",
    "    data = line.split(\",\")\n",
    "file.close()\n",
    "\n",
    "data.sort()\n",
    "total = 0\n",
    "\n",
    "for i in range(len(data)):\n",
    "    val = 0\n",
    "    for j in range(len(data[i])):\n",
    "        val+=alph_val[data[i][j]]\n",
    "    total += ((i+1)*val)  \n",
    "    \n",
    "del data, alph_val;\n",
    "\n",
    "print(total)"
   ]
  },
  {
   "cell_type": "markdown",
   "metadata": {},
   "source": [
    "## Q23*. Sum of all numbers that are not a sum of 2 abundant numbers. (numbers < 300)"
   ]
  },
  {
   "cell_type": "code",
   "execution_count": 4,
   "metadata": {},
   "outputs": [
    {
     "name": "stdout",
     "output_type": "stream",
     "text": [
      "22766\n"
     ]
    }
   ],
   "source": [
    "lim = 300\n",
    "# Actual limit is around 20000\n",
    "\n",
    "abu = []\n",
    "for i in range(2, lim):\n",
    "    if div(i) > i:\n",
    "        abu.append(i)\n",
    "        \n",
    "numb = set(i+j for i in abu for j in abu)\n",
    "\n",
    "non_abu = 0\n",
    "for k in range(lim):\n",
    "    if k not in numb:\n",
    "        non_abu += k\n",
    "        \n",
    "del abu, numb;\n",
    "\n",
    "print(non_abu)"
   ]
  },
  {
   "cell_type": "markdown",
   "metadata": {},
   "source": [
    "## Q24. Lexicographically 1,000,000th number (without repetition)"
   ]
  },
  {
   "cell_type": "code",
   "execution_count": 5,
   "metadata": {},
   "outputs": [
    {
     "name": "stdout",
     "output_type": "stream",
     "text": [
      "2783915460\n"
     ]
    }
   ],
   "source": [
    "num = [i for i in range(10)]\n",
    "\n",
    "number, flag, count, i = 0, 9, 0, 0\n",
    "\n",
    "while flag >= 0:\n",
    "    if i+fac(flag) >= 10**6:\n",
    "        number = (number*10 + num.pop(count))\n",
    "        flag -= 1\n",
    "        count = 0\n",
    "    else:\n",
    "        count += 1\n",
    "        i+= fac(flag)\n",
    "        \n",
    "del num;\n",
    "\n",
    "print(number)"
   ]
  },
  {
   "cell_type": "markdown",
   "metadata": {},
   "source": [
    "## Q25. Index of the first term in the Fibonacci sequence to contain 1000 digits"
   ]
  },
  {
   "cell_type": "code",
   "execution_count": 6,
   "metadata": {},
   "outputs": [
    {
     "name": "stdout",
     "output_type": "stream",
     "text": [
      "4782\n"
     ]
    }
   ],
   "source": [
    "i, fib_a, fib_b, nxt, n = 3, 1, 1, 0, 1\n",
    "\n",
    "while n < 1000:\n",
    "    nxt = fib_a + fib_b\n",
    "    fib_a = fib_b\n",
    "    fib_b = nxt\n",
    "    i += 1\n",
    "    n = int(m.log(nxt,10))+1\n",
    "    \n",
    "print(i-1)"
   ]
  },
  {
   "cell_type": "markdown",
   "metadata": {},
   "source": [
    "## Q26. Value of d < 1000 for which 1/d contains the Longest Recurring Cycle."
   ]
  },
  {
   "cell_type": "code",
   "execution_count": 7,
   "metadata": {},
   "outputs": [
    {
     "name": "stdout",
     "output_type": "stream",
     "text": [
      "983 982\n"
     ]
    }
   ],
   "source": [
    "# Function for finding reptition\n",
    "def rep(num):\n",
    "    a = 1\n",
    "    \n",
    "    for i in range(1,num):\n",
    "        a *= 10\n",
    "        a %= num\n",
    "        if(a==1):\n",
    "            return i\n",
    "    return 0\n",
    "\n",
    "n = 1000\n",
    "ma, m_n = 0, 0\n",
    "\n",
    "for j in range(2,n):\n",
    "    r = rep(j)\n",
    "    if r > ma:\n",
    "        ma = r\n",
    "        m_n = j\n",
    "#     print(j, r)\n",
    "print(m_n, ma)"
   ]
  },
  {
   "cell_type": "markdown",
   "metadata": {},
   "source": [
    "## Q27. Quadratic Expression that produces the maximum number of primes for consecutive values of n."
   ]
  },
  {
   "cell_type": "code",
   "execution_count": 8,
   "metadata": {},
   "outputs": [
    {
     "name": "stdout",
     "output_type": "stream",
     "text": [
      "The highest rep. is for n = 71 ; a = -61 , b = 971 , ab = -59231\n",
      "Run time = 1.406 sec\n"
     ]
    }
   ],
   "source": [
    "t1 = t.time()\n",
    "nu = 1000\n",
    "\n",
    "n = nu**2\n",
    "prim = [True for i in range(2,n+1)]\n",
    "\n",
    "for x in range(2,nu+1):\n",
    "    for j in range(2,n//x+1):\n",
    "        prim[j*x-2] = False\n",
    "\n",
    "prims = []\n",
    "for j in range(2,nu+1):\n",
    "    if (prim[j-2]):\n",
    "        prims.append(j) \n",
    "        \n",
    "a_m, b_m, n_m = 0, 0, 0\n",
    "\n",
    "for a in range(1,nu,2):\n",
    "    for b in prims:\n",
    "        # a is positive\n",
    "        n_i = 0\n",
    "        while(prim[n_i**2 + a*n_i + b - 2]):\n",
    "            n_i += 1\n",
    "        if(n_i > n_m):\n",
    "            a_m, b_m, n_m = a, b, n_i\n",
    "        # a is negative\n",
    "        n_i = 0\n",
    "        while(prim[n_i**2 - a*n_i + b - 2]):\n",
    "            n_i += 1\n",
    "        if(n_i > n_m):\n",
    "            a_m, b_m, n_m = -1*a, b, n_i\n",
    "\n",
    "del prim, prims;\n",
    "print('The highest rep. is for n =', n_m, '; a =' , a_m, ', b =', b_m,', ab =', a_m*b_m)\n",
    "print(\"Run time = %.3f sec\" % (t.time()-t1))"
   ]
  },
  {
   "cell_type": "markdown",
   "metadata": {},
   "source": [
    "## Q28. Sum of the numbers on the diagonals in a 1001 by 1001 spiral"
   ]
  },
  {
   "cell_type": "code",
   "execution_count": 9,
   "metadata": {},
   "outputs": [
    {
     "name": "stdout",
     "output_type": "stream",
     "text": [
      "669171001\n"
     ]
    }
   ],
   "source": [
    "'''\n",
    "By looking at the spiral, we can see that the outer 4 numbers for any n by n spriral (for n>1) will be\n",
    "       n**2      n**2 - (n-1)      n**2 - 2*(n-1)       n**2 - 3*(n-1)  \n",
    "\n",
    "n = 3;   9            7                 5                    3\n",
    "n = 5;   25           21                17                   13\n",
    "'''\n",
    "n = 1001\n",
    "\n",
    "sp_sum, num, i = 1, 1, 2\n",
    "\n",
    "while i < n:\n",
    "    num += i\n",
    "    sp_sum += num\n",
    "    if num == (i+1)**2:\n",
    "        i += 2\n",
    "\n",
    "print(sp_sum)        \n"
   ]
  },
  {
   "cell_type": "markdown",
   "metadata": {},
   "source": [
    "## Q29. Number of distinct terms in a sequence of a^b for 2 ≤ a ≤ 100 and 2 ≤ b ≤ 100"
   ]
  },
  {
   "cell_type": "code",
   "execution_count": 10,
   "metadata": {},
   "outputs": [
    {
     "name": "stdout",
     "output_type": "stream",
     "text": [
      "9183\n"
     ]
    }
   ],
   "source": [
    "n = 100\n",
    "\n",
    "# Finding numbers for each power\n",
    "new = set()\n",
    "dic = {}\n",
    "\n",
    "for i in range(1,int(m.log(n,2)+2)):\n",
    "    for j in range(2,n+1):\n",
    "        new.add(j*i)\n",
    "    dic[i] = len(new)\n",
    "\n",
    "del new;\n",
    "\n",
    "#Finding the unique powers\n",
    "num, u_po, t_po = 0, 0, 0\n",
    "lis = []\n",
    "\n",
    "for i in range(2,int(n**0.5)+1):\n",
    "    u_po = 0\n",
    "    for r in lis:\n",
    "        if m.log(i,r).is_integer():\n",
    "            u_po = 1\n",
    "            break\n",
    "    if u_po:\n",
    "        continue\n",
    "        \n",
    "    u_po = int(m.log(n,i))\n",
    "    num += dic[u_po]\n",
    "    t_po += u_po\n",
    "    lis.append(i)\n",
    "    \n",
    "num += (n-t_po-1)*dic[1]\n",
    "del dic, lis;\n",
    "\n",
    "print(num)"
   ]
  },
  {
   "cell_type": "markdown",
   "metadata": {},
   "source": [
    "## Q30. List of all the numbers that can be written as the sum of 5th powers of their digits."
   ]
  },
  {
   "cell_type": "code",
   "execution_count": 11,
   "metadata": {},
   "outputs": [
    {
     "name": "stdout",
     "output_type": "stream",
     "text": [
      "443839 [4150, 4151, 54748, 92727, 93084, 194979]\n"
     ]
    }
   ],
   "source": [
    "n  = 5\n",
    "\n",
    "pow_dig = {i:pow(i,n) for i in range(10)}\n",
    "\n",
    "# Finding the upper-limit to check\n",
    "limit , num = pow_dig[9] , 9\n",
    "while limit > num:\n",
    "    limit += pow_dig[9]\n",
    "    num = num*10 + 9\n",
    "    \n",
    "sum_nums, sum_dig, num = 0, 0, 0\n",
    "list_nums = []\n",
    "\n",
    "for i in range(2,limit+1):\n",
    "    sum_dig, num = 0, i\n",
    "    \n",
    "    while num > 0:\n",
    "        sum_dig += pow_dig[num%10]\n",
    "        num = num//10\n",
    "    \n",
    "    if sum_dig == i:\n",
    "        sum_nums += i\n",
    "        list_nums.append(i)\n",
    "        \n",
    "print(sum_nums, list_nums)\n",
    "\n",
    "del pow_dig, list_nums;"
   ]
  }
 ],
 "metadata": {
  "kernelspec": {
   "display_name": "Python 3",
   "language": "python",
   "name": "python3"
  },
  "language_info": {
   "codemirror_mode": {
    "name": "ipython",
    "version": 3
   },
   "file_extension": ".py",
   "mimetype": "text/x-python",
   "name": "python",
   "nbconvert_exporter": "python",
   "pygments_lexer": "ipython3",
   "version": "3.7.7"
  }
 },
 "nbformat": 4,
 "nbformat_minor": 2
}
