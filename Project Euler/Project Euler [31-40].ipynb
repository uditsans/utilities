{
 "cells": [
  {
   "cell_type": "markdown",
   "metadata": {},
   "source": [
    "## Q31. Different ways to make £2 using any number of coins."
   ]
  },
  {
   "cell_type": "code",
   "execution_count": 1,
   "metadata": {},
   "outputs": [
    {
     "data": {
      "text/plain": [
       "73682"
      ]
     },
     "execution_count": 1,
     "metadata": {},
     "output_type": "execute_result"
    }
   ],
   "source": [
    "coins = {1, 2, 5, 10, 20, 50, 100, 200}\n",
    "\n",
    "money = 200\n",
    "coins_dat = [0 for i in range(money+1)]\n",
    "coins_dat[0] = 1\n",
    "\n",
    "for i in coins:\n",
    "    j = i\n",
    "    while j <= money:\n",
    "        coins_dat[j] += coins_dat[j-i]\n",
    "        j += 1\n",
    "        \n",
    "coins_dat[200]"
   ]
  },
  {
   "cell_type": "markdown",
   "metadata": {},
   "source": [
    "## Q32. Sum of all products whose multiplicand/multiplier/product identity can be written as a 1-9 pandigital."
   ]
  },
  {
   "cell_type": "code",
   "execution_count": 2,
   "metadata": {},
   "outputs": [
    {
     "name": "stdout",
     "output_type": "stream",
     "text": [
      "{5346, 5796, 6952, 7852, 4396, 7632, 7254} 45228\n"
     ]
    }
   ],
   "source": [
    "def digits(num):\n",
    "    li = []\n",
    "    while num > 0:\n",
    "        li.append(num%10)\n",
    "        num = num//10\n",
    "    return li\n",
    "    \n",
    "def dig_check(a,b,c):\n",
    "    dig_o = [i for i in range(1,10)]\n",
    "    dig_t = a + b + c\n",
    "    if dig_o == sorted(dig_t):\n",
    "        del dig_o, dig_t;\n",
    "        return True\n",
    "    else:\n",
    "        return False\n",
    "\n",
    "def uniq(a):\n",
    "    seq = set()\n",
    "    for i in a:\n",
    "        if i in seq:\n",
    "            return False\n",
    "        else:\n",
    "            seq.add(i)\n",
    "    return True\n",
    "    \n",
    "list_pan = set()\n",
    "for i in range(1,100):\n",
    "    dig_i = digits(i)\n",
    "    if not uniq(dig_i):\n",
    "        continue\n",
    "        \n",
    "    for j in range(10**(4-len(dig_i)),10**(5-len(dig_i))):\n",
    "        dig_j = digits(j)\n",
    "        if not uniq(dig_j + dig_i):\n",
    "            continue\n",
    "            \n",
    "        if dig_check(dig_i,dig_j,digits(i*j)):\n",
    "            list_pan.add(i*j)\n",
    "                    \n",
    "print(list_pan, sum(list_pan))"
   ]
  },
  {
   "cell_type": "markdown",
   "metadata": {},
   "source": [
    "## Q33. Product of the four digit-cancelling fractions, given in its lowest common terms, the value of the denominator."
   ]
  },
  {
   "cell_type": "code",
   "execution_count": 3,
   "metadata": {},
   "outputs": [
    {
     "name": "stdout",
     "output_type": "stream",
     "text": [
      "[[16, 64, 6], [19, 95, 9], [26, 65, 6], [49, 98, 9]] [387296, 38729600]\n"
     ]
    }
   ],
   "source": [
    "def digit_2(num):\n",
    "    return num//10, num%10\n",
    "\n",
    "lis_dig =[]\n",
    "for i in range(11,100):\n",
    "    for j in range(i+1,100):\n",
    "        di_a, di_b = digit_2(i)\n",
    "        dj_a, dj_b = digit_2(j)\n",
    "        \n",
    "        if(di_a==0 or di_b==0 or dj_a==0 or dj_b==0):\n",
    "            continue\n",
    "            \n",
    "        if(di_a == dj_a and i/j == di_b/dj_b):\n",
    "            lis_dig.append([i,j,di_a])\n",
    "        elif(di_b == dj_a and i/j == di_a/dj_b):\n",
    "            lis_dig.append([i,j,di_b])\n",
    "        elif(di_a == dj_b and i/j == di_b/dj_a):\n",
    "            lis_dig.append([i,j,di_a])\n",
    "        elif(di_b == dj_b and i/j == di_a/dj_a):\n",
    "            lis_dig.append([i,j,di_b])\n",
    "        else:\n",
    "            continue\n",
    "\n",
    "prod_list = [1,1] \n",
    "for i in lis_dig:\n",
    "    prod_list[0] *= i[0]\n",
    "    prod_list[1] *= i[1]\n",
    "    \n",
    "print(lis_dig,prod_list)\n",
    "del lis_dig, prod_list;"
   ]
  },
  {
   "cell_type": "markdown",
   "metadata": {},
   "source": [
    "## Q34. Sum of all numbers which are equal to the sum of the factorial of their digits."
   ]
  },
  {
   "cell_type": "code",
   "execution_count": 4,
   "metadata": {},
   "outputs": [
    {
     "name": "stdout",
     "output_type": "stream",
     "text": [
      "[145, 40585] 40730\n"
     ]
    }
   ],
   "source": [
    "def fac(x):\n",
    "    if(x==0):\n",
    "        return 1\n",
    "    else:\n",
    "        return x*fac(x-1)\n",
    "    \n",
    "fac_dig = {i:fac(i) for i in range(10)}\n",
    "\n",
    "limit , num = fac_dig[9] , 9\n",
    "while limit > num:\n",
    "    limit += fac_dig[9]\n",
    "    num = num*10 + 9\n",
    "    \n",
    "sum_nums, sum_dig, num = 0, 0, 0\n",
    "list_nums = []\n",
    "\n",
    "for i in range(3,limit+1):\n",
    "    sum_dig, num = 0, i\n",
    "    \n",
    "    while num > 0 and sum_dig <= i:\n",
    "        sum_dig += fac_dig[num%10]\n",
    "        num = num//10\n",
    "    \n",
    "    if sum_dig == i:\n",
    "        sum_nums += i\n",
    "        list_nums.append(i)\n",
    "    \n",
    "print(list_nums, sum_nums)\n",
    "\n",
    "del fac_dig, list_nums;"
   ]
  },
  {
   "cell_type": "markdown",
   "metadata": {},
   "source": [
    "## Q35. Number of all circular primes below 1 million"
   ]
  },
  {
   "cell_type": "code",
   "execution_count": 5,
   "metadata": {},
   "outputs": [
    {
     "name": "stdout",
     "output_type": "stream",
     "text": [
      "55\n"
     ]
    }
   ],
   "source": [
    "import math as m\n",
    "\n",
    "def circ_pri(num,po):\n",
    "    c_list = [num]\n",
    "    for i in range(1,po+1):\n",
    "        a = num%10\n",
    "        b = num//10\n",
    "        num = a*(10**po) + b\n",
    "        if prim[num-2]:\n",
    "            if num in c_list:\n",
    "                continue\n",
    "            c_list.append(num)\n",
    "        else:\n",
    "            return [0]\n",
    "    return c_list\n",
    "        \n",
    "    \n",
    "    \n",
    "n = 10**6\n",
    "prim = [True for i in range(2,n+1)]\n",
    "\n",
    "for x in range(2,int(n**0.5)+1):\n",
    "    for j in range(2,n//x+1):\n",
    "        prim[j*x-2] = False\n",
    "\n",
    "prims = []\n",
    "for j in range(2,n+1):\n",
    "    if j in prims:\n",
    "        continue\n",
    "    if (prim[j-2]): \n",
    "        a = circ_pri(j,int(m.log(j,10)))\n",
    "        if a[0] > 0:\n",
    "            prims = prims + a\n",
    "            \n",
    "print(len(prims))"
   ]
  },
  {
   "cell_type": "markdown",
   "metadata": {},
   "source": [
    "## Q36. Sum of all numbers, less than 1 million, which are palindromic in bases 10 and 2"
   ]
  },
  {
   "cell_type": "code",
   "execution_count": 6,
   "metadata": {},
   "outputs": [
    {
     "name": "stdout",
     "output_type": "stream",
     "text": [
      "872187\n"
     ]
    }
   ],
   "source": [
    "def palin(num):\n",
    "    for i in range(len(num)//2):\n",
    "        if(num[i] == num[len(num)-1-i]):\n",
    "            continue\n",
    "        else:\n",
    "            return False\n",
    "    return True\n",
    "\n",
    "n = 10**6\n",
    "num = []\n",
    "for i in range(n+1):\n",
    "    if palin(str(i)):\n",
    "        if palin(bin(i)[2:]):\n",
    "            num.append(i)\n",
    "print(sum(num))"
   ]
  },
  {
   "cell_type": "markdown",
   "metadata": {},
   "source": [
    "## Q37. Sum of all the primes that are two-sided Primes (Left and Right Truncable) "
   ]
  },
  {
   "cell_type": "code",
   "execution_count": 7,
   "metadata": {},
   "outputs": [
    {
     "name": "stdout",
     "output_type": "stream",
     "text": [
      "[23, 37, 53, 73, 313, 317, 373, 797, 3137, 3797, 739397] 748317\n"
     ]
    }
   ],
   "source": [
    "import math as m\n",
    "#-----------------------------------------------------\n",
    "# Function for testing and storing primes\n",
    "prims = [2,3,5,7]\n",
    "def prim(num):\n",
    "    if num < 2:\n",
    "        return False\n",
    "    \n",
    "    if num in prims:\n",
    "        return True\n",
    "    \n",
    "    for i in range(2,int(num**0.5)+1):\n",
    "        if num%i == 0:\n",
    "            return False\n",
    "\n",
    "    prims.append(num)\n",
    "    return True\n",
    "#-------------------------------------------------------\n",
    "# Finiding all Right-truncable Primes\n",
    "r_trunc = set()  \n",
    "def right_trunc_prim(num):\n",
    "    if not prim(num):\n",
    "        r_trunc.add(num//10)\n",
    "        return None\n",
    "\n",
    "    for i in range(1,10):\n",
    "         right_trunc_prim(num*10+i)           \n",
    "#-------------------------------------------------------\n",
    "# Checking if the given prime is Left-truncatable\n",
    "lr_trunc = []\n",
    "def left_trunc_prim(num):\n",
    "# Removing digits from the Left\n",
    "    r_l = num\n",
    "    while r_l > 0:\n",
    "        if not prim(r_l):\n",
    "            return False\n",
    "        r_l = r_l%(10**int(m.log(r_l,10)))\n",
    "        \n",
    "    lr_trunc.append(num)\n",
    "#-------------------------------------------------------\n",
    "for i in [2,3,5,7]:\n",
    "    right_trunc_prim(i)\n",
    "\n",
    "for j in r_trunc:\n",
    "    left_trunc_prim(j)\n",
    "    \n",
    "print(sorted(lr_trunc)[4:],sum(lr_trunc[4:]))\n",
    "\n",
    "del r_trunc, lr_trunc, prims;"
   ]
  },
  {
   "cell_type": "markdown",
   "metadata": {},
   "source": [
    "# Q38. Largest Pandigital 9-digit number that can be formed as the concatenated product of an integer (n>2)"
   ]
  },
  {
   "cell_type": "code",
   "execution_count": 8,
   "metadata": {},
   "outputs": [
    {
     "name": "stdout",
     "output_type": "stream",
     "text": [
      "932718654\n"
     ]
    }
   ],
   "source": [
    "dig_o = [i for i in range(1,10)]\n",
    "\n",
    "def digits(num):\n",
    "    li = []\n",
    "    while num > 0:\n",
    "        li.append(num%10)\n",
    "        num = num//10\n",
    "    return li\n",
    "\n",
    "dig = []\n",
    "high = 0\n",
    "\n",
    "# if n = 2, then a should be such that it is 4 digit and 2a has to be 5 digit \n",
    "for i in range(10000,1,-1):\n",
    "    \n",
    "    num = i*2 + i*100000\n",
    "    dig = digits(num)\n",
    "    \n",
    "    if sorted(dig) == dig_o:\n",
    "        if high < num:\n",
    "            high = num\n",
    "        break\n",
    "    \n",
    "# For n = 3; i will be in range(100,334)\n",
    "# For n = 4; i will be in range(25,34)\n",
    "# for n = 5; i will be in range(5,10)\n",
    "print(high)"
   ]
  },
  {
   "cell_type": "markdown",
   "metadata": {},
   "source": [
    "# Q39. https://projecteuler.net/problem=39"
   ]
  },
  {
   "cell_type": "code",
   "execution_count": 9,
   "metadata": {},
   "outputs": [
    {
     "name": "stdout",
     "output_type": "stream",
     "text": [
      "840\n"
     ]
    }
   ],
   "source": [
    "dic = { i:0 for i in range(1,1001)}\n",
    "for a in range(1,500):\n",
    "    for b in range(a+1,500):\n",
    "        for c in range(b+1,500):\n",
    "            if a**2 + b**2 == c**2 and a+b+c < 1001:\n",
    "                dic[a+b+c] = dic[a+b+c] + 1\n",
    "                \n",
    "print(max(dic,key=dic.get))\n",
    "            "
   ]
  },
  {
   "cell_type": "markdown",
   "metadata": {},
   "source": [
    "## Q40. https://projecteuler.net/problem=40"
   ]
  },
  {
   "cell_type": "code",
   "execution_count": 10,
   "metadata": {},
   "outputs": [
    {
     "name": "stdout",
     "output_type": "stream",
     "text": [
      "210\n"
     ]
    }
   ],
   "source": [
    "def dig_n(num):\n",
    "    r_n, c_n, p = num, 0, 1\n",
    "    while r_n > 9*(10**(p-1))*p:\n",
    "        c_n += 9*(10**(p-1))\n",
    "        r_n -= 9*(10**(p-1))*p\n",
    "        p += 1\n",
    "        \n",
    "    c_n += r_n//p\n",
    "    \n",
    "    if r_n%p == 0:\n",
    "        return c_n%10\n",
    "    else:\n",
    "        a = c_n + 1\n",
    "        for i in range(1,(r_n%p)+1):\n",
    "            c_n = a//(10**(p-i))\n",
    "            a = a%(10**(p-i))\n",
    "        return c_n\n",
    "    \n",
    "nu = 1\n",
    "for i in range(7):\n",
    "    nu *= dig_n(10**i)\n",
    "print(nu)\n",
    "    "
   ]
  }
 ],
 "metadata": {
  "kernelspec": {
   "display_name": "Python 3",
   "language": "python",
   "name": "python3"
  },
  "language_info": {
   "codemirror_mode": {
    "name": "ipython",
    "version": 3
   },
   "file_extension": ".py",
   "mimetype": "text/x-python",
   "name": "python",
   "nbconvert_exporter": "python",
   "pygments_lexer": "ipython3",
   "version": "3.7.4"
  }
 },
 "nbformat": 4,
 "nbformat_minor": 2
}
