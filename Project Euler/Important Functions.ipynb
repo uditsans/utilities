{
 "cells": [
  {
   "cell_type": "markdown",
   "metadata": {},
   "source": [
    "# Pandigital Numbers Generator"
   ]
  },
  {
   "cell_type": "code",
   "execution_count": 1,
   "metadata": {},
   "outputs": [],
   "source": [
    "def pan_digit(dig_left, num = 0):\n",
    "    \n",
    "    if len(dig_left) == 0:\n",
    "        return [num]\n",
    "    \n",
    "    pand_num = []\n",
    "    for i in dig_left:\n",
    "        sub_dig = [j for j in dig_left]\n",
    "        sub_dig.remove(i)\n",
    "        pand_num = pand_num + pan_digit(sub_dig,num*10+i)\n",
    "        del sub_dig;\n",
    "    \n",
    "    return pand_num"
   ]
  },
  {
   "cell_type": "markdown",
   "metadata": {},
   "source": [
    "# Prime Number Checker"
   ]
  },
  {
   "cell_type": "code",
   "execution_count": null,
   "metadata": {},
   "outputs": [],
   "source": [
    "prime_list = [2,3,5,7]\n",
    "def prime(num):\n",
    "    \n",
    "    if num < 2:\n",
    "        return False\n",
    "    \n",
    "    if num in prime_list:\n",
    "        return True\n",
    "    \n",
    "    for i in range(2,int(num**0.5)+1):\n",
    "        if num%i == 0:\n",
    "            return False\n",
    "\n",
    "    prime_list.append(num)\n",
    "    return True"
   ]
  }
 ],
 "metadata": {
  "kernelspec": {
   "display_name": "Python 3",
   "language": "python",
   "name": "python3"
  },
  "language_info": {
   "codemirror_mode": {
    "name": "ipython",
    "version": 3
   },
   "file_extension": ".py",
   "mimetype": "text/x-python",
   "name": "python",
   "nbconvert_exporter": "python",
   "pygments_lexer": "ipython3",
   "version": "3.6.9"
  }
 },
 "nbformat": 4,
 "nbformat_minor": 2
}
