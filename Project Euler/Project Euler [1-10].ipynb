{
 "cells": [
  {
   "cell_type": "markdown",
   "metadata": {},
   "source": [
    "# Project Euler Solution Codes"
   ]
  },
  {
   "cell_type": "markdown",
   "metadata": {},
   "source": [
    "## Q1. Sum of multiples of 3 and 5 till 1000"
   ]
  },
  {
   "cell_type": "code",
   "execution_count": 1,
   "metadata": {},
   "outputs": [
    {
     "name": "stdout",
     "output_type": "stream",
     "text": [
      "234168\n"
     ]
    }
   ],
   "source": [
    "y=0\n",
    "\n",
    "for i in range(1,1001):\n",
    "    if i%3==0 or i%5==0:\n",
    "        y+=i\n",
    "\n",
    "print(y)"
   ]
  },
  {
   "cell_type": "markdown",
   "metadata": {},
   "source": [
    "## Q2. Sum of even fibonacci numbers below 4m"
   ]
  },
  {
   "cell_type": "code",
   "execution_count": 2,
   "metadata": {},
   "outputs": [
    {
     "name": "stdout",
     "output_type": "stream",
     "text": [
      "4613732\n"
     ]
    }
   ],
   "source": [
    "y=[1,2] # Initial terms of fibonacci series; here 'y' is the series\n",
    "\n",
    "i=1\n",
    "even_sum=2\n",
    "\n",
    "while((y[i-1]+y[i])<=4000000):\n",
    "    y.append(y[i-1]+y[i])\n",
    "    i+=1\n",
    "    if(y[i]%2==0):\n",
    "        even_sum+=y[i]\n",
    "\n",
    "print(even_sum)"
   ]
  },
  {
   "cell_type": "markdown",
   "metadata": {},
   "source": [
    "## Q3. Largest prime factor of 600851475143"
   ]
  },
  {
   "cell_type": "code",
   "execution_count": 3,
   "metadata": {},
   "outputs": [
    {
     "name": "stdout",
     "output_type": "stream",
     "text": [
      "6857\n"
     ]
    }
   ],
   "source": [
    "number=600851475143 # Defined\n",
    "y=[] # List of all the prime factors of y\n",
    "i=2\n",
    "\n",
    "while number>1:\n",
    "    if(number%i==0):\n",
    "        y.append(i)\n",
    "        number/=i\n",
    "    else:\n",
    "        i+=1\n",
    "\n",
    "print(y[-1])"
   ]
  },
  {
   "cell_type": "markdown",
   "metadata": {},
   "source": [
    "## Q4. Largest palindrome made from the product of two 3-digit numbers"
   ]
  },
  {
   "cell_type": "code",
   "execution_count": 4,
   "metadata": {},
   "outputs": [
    {
     "name": "stdout",
     "output_type": "stream",
     "text": [
      "906609\n"
     ]
    }
   ],
   "source": [
    "# The palindrome will be a 6-digit number\n",
    "# Assuming largest numbers\n",
    "n1=999\n",
    "n2=999\n",
    "\n",
    "palin=[] # List of Plaindromes\n",
    "\n",
    "while (n1>1):\n",
    "    prod=n1*n2\n",
    "    if(prod//100000==(prod%10) and ((prod//10000)%10)==((prod%100)//10) and ((prod//1000)%10)==((prod%1000)//100)):\n",
    "        # ^ Checks if 'prod' is a palindrome\n",
    "        palin.append(prod)\n",
    "\n",
    "    if(n2==1):\n",
    "        n2=n1\n",
    "        n1-=1\n",
    "    n2-=1\n",
    "\n",
    "print(max(palin))"
   ]
  },
  {
   "cell_type": "markdown",
   "metadata": {},
   "source": [
    "## Q5. \tSmallest number that is divisible by all of the numbers from 1 to 20"
   ]
  },
  {
   "cell_type": "code",
   "execution_count": 5,
   "metadata": {},
   "outputs": [
    {
     "name": "stdout",
     "output_type": "stream",
     "text": [
      "232792560\n"
     ]
    }
   ],
   "source": [
    "num=1\n",
    "\n",
    "for i in range(1,21):\n",
    "    if(num%i==0):\n",
    "        continue\n",
    "    else:\n",
    "        #LCM(x,y) = x*y/HCF(x,y) \n",
    "        j=i-1\n",
    "        HCF=1\n",
    "        while(j>1):\n",
    "            if(i%j==0 and num%j==0 and HCF%j!=0):\n",
    "                HCF*=j\n",
    "            j-=1\n",
    "            \n",
    "        num*=i//HCF\n",
    "\n",
    "print(num)"
   ]
  },
  {
   "cell_type": "markdown",
   "metadata": {},
   "source": [
    "## Q6. Difference between the sum of the squares of the first 100 natural numbers and the square of the sum."
   ]
  },
  {
   "cell_type": "code",
   "execution_count": 6,
   "metadata": {},
   "outputs": [
    {
     "name": "stdout",
     "output_type": "stream",
     "text": [
      "25164150\n"
     ]
    }
   ],
   "source": [
    "sum_sq=0 # Sum of Square\n",
    "sq_sum=0 # Square of Sum\n",
    "\n",
    "for i in range(1,101):\n",
    "    sum_sq+=(i*i)\n",
    "    sq_sum+=i\n",
    "    \n",
    "sq_sum*=sq_sum\n",
    "\n",
    "print(sq_sum-sum_sq)"
   ]
  },
  {
   "cell_type": "markdown",
   "metadata": {},
   "source": [
    "## Q7. 1001st prime number [originally 10001st]"
   ]
  },
  {
   "cell_type": "code",
   "execution_count": 7,
   "metadata": {},
   "outputs": [
    {
     "name": "stdout",
     "output_type": "stream",
     "text": [
      "7927\n"
     ]
    }
   ],
   "source": [
    "prim=[2,3]\n",
    "\n",
    "i=2\n",
    "j=5\n",
    "\n",
    "while (i<1001):\n",
    "    k=0\n",
    "    flag=1\n",
    "    while (k<i):\n",
    "        if((j%prim[k])==0):\n",
    "            flag=0\n",
    "            break\n",
    "        k+=1\n",
    "    if(flag==1):\n",
    "        prim.append(j)\n",
    "        i+=1\n",
    "    j+=1\n",
    "    \n",
    "print(prim[i-1])    "
   ]
  },
  {
   "cell_type": "markdown",
   "metadata": {},
   "source": [
    "## Q8. Maximum product of 13 adjacent digits in the 1000-digit number"
   ]
  },
  {
   "cell_type": "code",
   "execution_count": 8,
   "metadata": {},
   "outputs": [
    {
     "name": "stdout",
     "output_type": "stream",
     "text": [
      "23514624000\n"
     ]
    }
   ],
   "source": [
    "n=13 # Number of adjacent digits\n",
    "\n",
    "x= 7316717653133062491922511967442657474235534919493496983520312774506326239578318016984801869478851843858615607891129494954595017379583319528532088055111254069874715852386305071569329096329522744304355766896648950445244523161731856403098711121722383113622298934233803081353362766142828064444866452387493035890729629049156044077239071381051585930796086670172427121883998797908792274921901699720888093776657273330010533678812202354218097512545405947522435258490771167055601360483958644670632441572215539753697817977846174064955149290862569321978468622482839722413756570560574902614079729686524145351004748216637048440319989000889524345065854122758866688116427171479924442928230863465674813919123162824586178664583591245665294765456828489128831426076900422421902267105562632111110937054421750694165896040807198403850962455444362981230987879927244284909188845801561660979191338754992005240636899125607176060588611646710940507754100225698315520005593572972571636269561882670428252483600823257530420752963450\n",
    "\n",
    "# Making the digits list\n",
    "y=[] \n",
    "while(x!=0):\n",
    "    y.append(x%10)\n",
    "    x//=10\n",
    "    \n",
    "#Getting an initial list and product of 13 adjacent digits\n",
    "num=len(y)-1\n",
    "prod=1\n",
    "setp=[]\n",
    "j=1\n",
    "while(j<n+1):\n",
    "    if(y[num]!=0): # Ensuring we don't get a '0' in the digit\n",
    "        prod*=y[num]\n",
    "        setp.append(y[num])\n",
    "    else:          # If we get a '0', we remake the list and product \n",
    "        j=0\n",
    "        setp=[]\n",
    "        prod=1\n",
    "    j+=1\n",
    "    num-=1\n",
    "    \n",
    "max_prod=prod # Initiating the initial product as maximum product\n",
    "max_list=setp\n",
    "\n",
    "# Checking for further lists\n",
    "while (num>=0):  \n",
    "    if(y[num]!=0):  # Ensuring we don't get a '0' in the digit\n",
    "        prod//=setp[0] # Removing the oldest digit from the product\n",
    "        prod*=y[num]   # Putting the latest digit in the product\n",
    "        \n",
    "        # Updating the new list\n",
    "        setr=setp[1:n]\n",
    "        setr.append(y[num])\n",
    "        setp=setr\n",
    "        num-=1\n",
    "    \n",
    "    else:   # If we get a '0', we remake the list and product; same code as initial one\n",
    "        num-=1\n",
    "        prod=1\n",
    "        setp=[]\n",
    "        j=1\n",
    "        while(j<n+1):\n",
    "            if(y[num]!=0):\n",
    "                prod*=y[num]\n",
    "                setp.append(y[num])\n",
    "            else:\n",
    "                j=0\n",
    "                setp=[]\n",
    "                prod=1\n",
    "            j+=1\n",
    "            num-=1\n",
    "    \n",
    "    if(prod>max_prod):  # If we get a better result, we update it\n",
    "        max_prod=prod\n",
    "        #max_list=setp # To get the list \n",
    "\n",
    "print(max_prod)"
   ]
  },
  {
   "cell_type": "markdown",
   "metadata": {},
   "source": [
    "## Q9. Pythagorean triplet for which a + b + c = 1000"
   ]
  },
  {
   "cell_type": "code",
   "execution_count": 9,
   "metadata": {},
   "outputs": [
    {
     "name": "stdout",
     "output_type": "stream",
     "text": [
      "The Pythagorean Triad is 200 375 425\n",
      "The Product is 31875000\n"
     ]
    }
   ],
   "source": [
    "# Given a+b+c = 1000 and a^2+b^2=c^2\n",
    "# Using Euclid's Formula a=m^2-n^2; b=2mn; c=m^2+n^2\n",
    "# We get a+b+c = 2m(m-n)\n",
    "# We need to effectively solve for 'm' in 'm^2-mn-d/2=0' where 'd' is a+b+c\n",
    "\n",
    "import sys # For exit sequence\n",
    "\n",
    "def sqrt(x):        # Function for square root\n",
    "    y = pow(x,0.5)\n",
    "    return y\n",
    "\n",
    "d=1000\n",
    "\n",
    "# Finding m & n by varying n such that the 'sqrt' function gets a perfect square input\n",
    "m=0\n",
    "n=1\n",
    "while(m==0):\n",
    "    if(n>d): # If d is not a sum of triad\n",
    "        sys.exit(\"No such sum!!!\")\n",
    "        \n",
    "    x=sqrt(n*n+2*d)\n",
    "    if(x==int(x)):\n",
    "        m=int((x-n)/2)\n",
    "    else:\n",
    "        n+=1\n",
    "\n",
    "# Calculating the Triad\n",
    "a=abs(m*m-n*n)\n",
    "b=2*m*n\n",
    "c=m*m+n*n\n",
    "\n",
    "print(\"The Pythagorean Triad is \"+ str(b) +\" \"+ str(a) +\" \"+ str(c))\n",
    "print(\"The Product is \" + str(a*b*c))"
   ]
  },
  {
   "cell_type": "markdown",
   "metadata": {},
   "source": [
    "## Q10. Sum of all the primes below 2 thousand. [originally 2 million]"
   ]
  },
  {
   "cell_type": "code",
   "execution_count": 10,
   "metadata": {},
   "outputs": [
    {
     "name": "stdout",
     "output_type": "stream",
     "text": [
      "The sum of all primes below it is 277050\n",
      "0.0036840438842773438 sec\n"
     ]
    }
   ],
   "source": [
    "import time\n",
    "t1 = time.time()\n",
    "n = 2*10**3\n",
    "prim=[True for i in range(2,n+1)]\n",
    "\n",
    "for x in range(2,int(n**0.5)+1):\n",
    "    for j in range(2,n//x+1):\n",
    "        prim[j*x-2] = False\n",
    "\n",
    "sumed = 0\n",
    "for k in range(2,n+1):\n",
    "    if prim[k-2]:\n",
    "        sumed+=k\n",
    "    \n",
    "del prim;\n",
    "print(\"The sum of all primes below it is\", sumed)\n",
    "print(time.time()-t1, \"sec\")"
   ]
  }
 ],
 "metadata": {
  "kernelspec": {
   "display_name": "Python 3",
   "language": "python",
   "name": "python3"
  },
  "language_info": {
   "codemirror_mode": {
    "name": "ipython",
    "version": 3
   },
   "file_extension": ".py",
   "mimetype": "text/x-python",
   "name": "python",
   "nbconvert_exporter": "python",
   "pygments_lexer": "ipython3",
   "version": "3.9.1"
  }
 },
 "nbformat": 4,
 "nbformat_minor": 2
}
